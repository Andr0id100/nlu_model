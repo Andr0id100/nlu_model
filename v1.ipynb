{
 "cells": [
  {
   "cell_type": "code",
   "execution_count": 267,
   "id": "603ceded-e972-46a0-8b22-ca33af38b14b",
   "metadata": {},
   "outputs": [],
   "source": [
    "from convert import read_format_0\n",
    "import torch\n",
    "from torch import nn\n",
    "import torch.nn.functional as F\n",
    "import torch.optim as optim\n",
    "import matplotlib.pyplot as plt\n",
    "import wandb"
   ]
  },
  {
   "cell_type": "code",
   "execution_count": 88,
   "id": "7b097725-fc2b-4d21-90b5-7561151433ed",
   "metadata": {},
   "outputs": [],
   "source": [
    "TRAIN_FILE_PATH = \"data/train\"\n",
    "TEST_FILE_PATH = \"data/test\"\n",
    "VALID_FILE_PATH = \"data/valid\""
   ]
  },
  {
   "cell_type": "code",
   "execution_count": 89,
   "id": "ffdf1b3a-09ca-45c8-a47e-24f298b75223",
   "metadata": {},
   "outputs": [],
   "source": [
    "(train_slot_tokens, train_slot_labels,\n",
    " train_intent_labels) = read_format_0(TRAIN_FILE_PATH)\n",
    "\n",
    "(test_slot_tokens, test_slot_labels,\n",
    " test_intent_labels) = read_format_0(TEST_FILE_PATH)\n",
    "\n",
    "(valid_slot_tokens, valid_slot_labels,\n",
    " valid_intent_labels) = read_format_0(VALID_FILE_PATH)"
   ]
  },
  {
   "cell_type": "code",
   "execution_count": 90,
   "id": "f402f302-3ea1-47fa-81a4-8c093b30dd36",
   "metadata": {},
   "outputs": [],
   "source": [
    "token_vocab, slot_vocab, intent_vocab = set(), set(), set()\n",
    "\n",
    "for i in range(len(train_intent_labels)):\n",
    "    # Kept token vocab only in train part because it can encounter unknown tokens during test\n",
    "    token_vocab.update(train_slot_tokens[i])\n",
    "    slot_vocab.update(train_slot_labels[i])\n",
    "    intent_vocab.add(train_intent_labels[i])\n",
    "\n",
    "for i in range(len(test_intent_labels)):\n",
    "    slot_vocab.update(test_slot_labels[i])\n",
    "    intent_vocab.add(test_intent_labels[i])\n",
    "\n",
    "for i in range(len(valid_intent_labels)):\n",
    "    slot_vocab.update(valid_slot_labels[i])\n",
    "    intent_vocab.add(valid_intent_labels[i])"
   ]
  },
  {
   "cell_type": "code",
   "execution_count": 91,
   "id": "14491392-f188-4095-a3f1-bb59e0e710da",
   "metadata": {},
   "outputs": [],
   "source": [
    "def write_vocab(filename, vocab_set, sort=True):\n",
    "    vocab = list(vocab_set)\n",
    "    if sort:\n",
    "        vocab = sorted(vocab)\n",
    "    with open(filename, 'w') as f:\n",
    "        for entry in vocab:\n",
    "            f.write(f\"{entry}\\n\")"
   ]
  },
  {
   "cell_type": "code",
   "execution_count": 92,
   "id": "1e897121-db24-4440-9404-55f5c5e2cb1d",
   "metadata": {},
   "outputs": [],
   "source": [
    "write_vocab(\"vocab/token_vocab\", token_vocab, sort=False)\n",
    "write_vocab(\"vocab/slot_vocab\", slot_vocab)\n",
    "write_vocab(\"vocab/intent_vocab\", intent_vocab)"
   ]
  },
  {
   "cell_type": "code",
   "execution_count": 93,
   "id": "94a58623-0a46-4536-9af8-33742b882e9e",
   "metadata": {},
   "outputs": [],
   "source": [
    "word2int = dict()\n",
    "\n",
    "for (i, word) in enumerate(token_vocab):\n",
    "    word2int[word] = i\n",
    "\n",
    "word2int[\"<UNK>\"] = len(token_vocab)"
   ]
  },
  {
   "cell_type": "code",
   "execution_count": 94,
   "id": "dd63d3d0-840d-4c27-a0ad-7921e310b9ac",
   "metadata": {},
   "outputs": [],
   "source": [
    "slot2int = list(slot_vocab)\n",
    "intent2int = list(intent_vocab)\n",
    "\n",
    "slot2int.sort()\n",
    "intent2int.sort()"
   ]
  },
  {
   "cell_type": "code",
   "execution_count": 95,
   "id": "563ce86e-345d-486c-8558-8a696cf90f3a",
   "metadata": {},
   "outputs": [
    {
     "data": {
      "text/plain": [
       "(868, 127, 18)"
      ]
     },
     "execution_count": 95,
     "metadata": {},
     "output_type": "execute_result"
    }
   ],
   "source": [
    "len(word2int), len(slot2int), len(intent2int)"
   ]
  },
  {
   "cell_type": "code",
   "execution_count": 109,
   "id": "f9b4779e-cfbe-4e62-9825-00449e65423e",
   "metadata": {},
   "outputs": [],
   "source": [
    "def map_token_sequence_to_ints(sequence):\n",
    "    mapped = []\n",
    "    for word in sequence:\n",
    "        if word not in word2int:\n",
    "            word = \"<UNK>\"\n",
    "        mapped.append(word2int[word])\n",
    "        \n",
    "    return mapped"
   ]
  },
  {
   "cell_type": "code",
   "execution_count": 110,
   "id": "38107eb7-a2bb-4b29-808a-c3c76adc3f42",
   "metadata": {},
   "outputs": [],
   "source": [
    "def map_label_sequence_to_ints(sequence):\n",
    "    mapped = []\n",
    "    for word in sequence:\n",
    "        mapped.append(slot2int.index(word))\n",
    "        \n",
    "    return mapped"
   ]
  },
  {
   "cell_type": "code",
   "execution_count": 117,
   "id": "61c12d87-ea7a-4f13-a585-3a097009c127",
   "metadata": {},
   "outputs": [],
   "source": [
    "train_data_ints = list(map(map_token_sequence_to_ints, train_slot_tokens))\n",
    "test_data_ints = list(map(map_token_sequence_to_ints, test_slot_tokens))\n",
    "valid_data_ints = list(map(map_token_sequence_to_ints, valid_slot_tokens))\n",
    "\n",
    "train_intents_ints = list(map(lambda x: intent2int.index(x), train_intent_labels))\n",
    "train_slots_ints   = list(map(map_label_sequence_to_ints, train_slot_labels))"
   ]
  },
  {
   "cell_type": "code",
   "execution_count": 112,
   "id": "b6d6ffb1-0008-4062-af34-ab85744a9790",
   "metadata": {},
   "outputs": [
    {
     "data": {
      "text/plain": [
       "10"
      ]
     },
     "execution_count": 112,
     "metadata": {},
     "output_type": "execute_result"
    }
   ],
   "source": [
    "len(train_data_ints[0])"
   ]
  },
  {
   "cell_type": "code",
   "execution_count": 118,
   "id": "39086bff-4c1a-4ad8-96c1-34f318422493",
   "metadata": {},
   "outputs": [
    {
     "data": {
      "text/plain": [
       "([46, 85, 309, 399, 715, 616, 309, 63, 840, 175],\n",
       " [126, 126, 126, 126, 126, 48, 126, 78, 66, 117],\n",
       " 10)"
      ]
     },
     "execution_count": 118,
     "metadata": {},
     "output_type": "execute_result"
    }
   ],
   "source": [
    "train_data_ints[0], train_slots_ints[0], train_intents_ints[0]"
   ]
  },
  {
   "cell_type": "code",
   "execution_count": 212,
   "id": "7d6f920d-a057-4d17-bf17-02809ffd143d",
   "metadata": {},
   "outputs": [],
   "source": [
    "train_token_tensors = []\n",
    "train_slot_tensors = []\n",
    "train_intent_tensors = []\n",
    "\n",
    "for entry in train_data_ints:\n",
    "    train_token_tensors.append(torch.tensor(entry, dtype=torch.long))\n",
    "\n",
    "for entry in train_slots_ints:\n",
    "    train_slot_tensors.append(torch.tensor(entry, dtype=torch.long))\n",
    "\n",
    "for intent in train_intents_ints:\n",
    "    train_intent_tensors.append(torch.tensor(intent, dtype=torch.long))"
   ]
  },
  {
   "cell_type": "code",
   "execution_count": 213,
   "id": "839411e3-3e29-4043-8419-9cf870e2d363",
   "metadata": {},
   "outputs": [
    {
     "data": {
      "text/plain": [
       "(tensor([ 46,  85, 309, 399, 715, 616, 309,  63, 840, 175]),\n",
       " tensor([126, 126, 126, 126, 126,  48, 126,  78,  66, 117]),\n",
       " tensor(10))"
      ]
     },
     "execution_count": 213,
     "metadata": {},
     "output_type": "execute_result"
    }
   ],
   "source": [
    "train_token_tensors[0], train_slot_tensors[0], train_intent_tensors[0]"
   ]
  },
  {
   "cell_type": "code",
   "execution_count": 247,
   "id": "b8029096-cdf2-4f65-aaa0-137398400999",
   "metadata": {},
   "outputs": [],
   "source": [
    "class Model(nn.Module):\n",
    "    def __init__(self, word_vocab_size=len(word2int), slot_vocab_size=len(slot2int), intent_vocab_size=len(intent2int)):\n",
    "        super(Model, self).__init__()\n",
    "        self.word_embeddings = nn.Embedding(word_vocab_size, 128)\n",
    "        self.lstm = nn.LSTM(128, 64)\n",
    "        self.fc = nn.Linear(64, intent_vocab_size)\n",
    "    \n",
    "    def forward(self, input_sequence):\n",
    "        embedded = self.word_embeddings(input_sequence)\n",
    "        lstm_output, _ = self.lstm(embedded.view(len(input_sequence), 1, -1))\n",
    "        # fc_out = self.fc(lstm_output.view(len(input_sequence), -1))\n",
    "        fc_out = self.fc(lstm_output[-1])\n",
    "        # slot_preds = F.log_softmax(fc_out, dim=1)\n",
    "        # return slot_preds\n",
    "        return fc_out"
   ]
  },
  {
   "cell_type": "code",
   "execution_count": 322,
   "id": "e644f88c-552c-4fc0-a9aa-48c98a2edf80",
   "metadata": {},
   "outputs": [
    {
     "data": {
      "text/html": [
       "Finishing last run (ID:hfdv6fzs) before initializing another..."
      ],
      "text/plain": [
       "<IPython.core.display.HTML object>"
      ]
     },
     "metadata": {},
     "output_type": "display_data"
    },
    {
     "name": "stdout",
     "output_type": "stream",
     "text": [
      "\n"
     ]
    },
    {
     "data": {
      "text/html": [
       "Waiting for W&B process to finish... <strong style=\"color:green\">(success).</strong>"
      ],
      "text/plain": [
       "<IPython.core.display.HTML object>"
      ]
     },
     "metadata": {},
     "output_type": "display_data"
    },
    {
     "data": {
      "application/vnd.jupyter.widget-view+json": {
       "model_id": "",
       "version_major": 2,
       "version_minor": 0
      },
      "text/plain": [
       "VBox(children=(Label(value='0.001 MB of 0.001 MB uploaded (0.000 MB deduped)\\r'), FloatProgress(value=1.0, max…"
      ]
     },
     "metadata": {},
     "output_type": "display_data"
    },
    {
     "data": {
      "text/html": [
       "<style>\n",
       "    table.wandb td:nth-child(1) { padding: 0 10px; text-align: right }\n",
       "    .wandb-row { display: flex; flex-direction: row; flex-wrap: wrap; width: 100% }\n",
       "    .wandb-col { display: flex; flex-direction: column; flex-basis: 100%; flex: 1; padding: 10px; }\n",
       "    </style>\n",
       "<div class=\"wandb-row\"><div class=\"wandb-col\"><h3>Run history:</h3><br/><table class=\"wandb\"><tr><td>loss</td><td>▂▂▂▁▂▁▁▂▁█▁▁▁▁▁▁▁▁▁▁▁▁▁▁▁▁▁▁▁▁▁▁▁▁▁▁▁▁▁▁</td></tr></table><br/></div><div class=\"wandb-col\"><h3>Run summary:</h3><br/><table class=\"wandb\"><tr><td>loss</td><td>0.0001</td></tr></table><br/></div></div>"
      ],
      "text/plain": [
       "<IPython.core.display.HTML object>"
      ]
     },
     "metadata": {},
     "output_type": "display_data"
    },
    {
     "data": {
      "text/html": [
       "Synced <strong style=\"color:#cdcd00\">valiant-leaf-1</strong>: <a href=\"https://wandb.ai/android100/slu_webapp_model/runs/hfdv6fzs\" target=\"_blank\">https://wandb.ai/android100/slu_webapp_model/runs/hfdv6fzs</a><br/>Synced 6 W&B file(s), 0 media file(s), 0 artifact file(s) and 0 other file(s)"
      ],
      "text/plain": [
       "<IPython.core.display.HTML object>"
      ]
     },
     "metadata": {},
     "output_type": "display_data"
    },
    {
     "data": {
      "text/html": [
       "Find logs at: <code>./wandb/run-20220321_192543-hfdv6fzs/logs</code>"
      ],
      "text/plain": [
       "<IPython.core.display.HTML object>"
      ]
     },
     "metadata": {},
     "output_type": "display_data"
    },
    {
     "data": {
      "text/html": [
       "Successfully finished last run (ID:hfdv6fzs). Initializing new run:<br/>"
      ],
      "text/plain": [
       "<IPython.core.display.HTML object>"
      ]
     },
     "metadata": {},
     "output_type": "display_data"
    },
    {
     "name": "stderr",
     "output_type": "stream",
     "text": [
      "2022-03-21 21:39:51.900730: W tensorflow/stream_executor/platform/default/dso_loader.cc:64] Could not load dynamic library 'libcudart.so.11.0'; dlerror: libcudart.so.11.0: cannot open shared object file: No such file or directory\n",
      "2022-03-21 21:39:51.900759: I tensorflow/stream_executor/cuda/cudart_stub.cc:29] Ignore above cudart dlerror if you do not have a GPU set up on your machine.\n"
     ]
    },
    {
     "data": {
      "text/html": [
       "Tracking run with wandb version 0.12.11"
      ],
      "text/plain": [
       "<IPython.core.display.HTML object>"
      ]
     },
     "metadata": {},
     "output_type": "display_data"
    },
    {
     "data": {
      "text/html": [
       "Run data is saved locally in <code>/home/snehal/Documents/slu-asr/fresh_model/wandb/run-20220321_213940-1w2sm2n8</code>"
      ],
      "text/plain": [
       "<IPython.core.display.HTML object>"
      ]
     },
     "metadata": {},
     "output_type": "display_data"
    },
    {
     "data": {
      "text/html": [
       "Syncing run <strong><a href=\"https://wandb.ai/android100/slu_webapp_model/runs/1w2sm2n8\" target=\"_blank\">royal-aardvark-2</a></strong> to <a href=\"https://wandb.ai/android100/slu_webapp_model\" target=\"_blank\">Weights & Biases</a> (<a href=\"https://wandb.me/run\" target=\"_blank\">docs</a>)<br/>"
      ],
      "text/plain": [
       "<IPython.core.display.HTML object>"
      ]
     },
     "metadata": {},
     "output_type": "display_data"
    },
    {
     "data": {
      "text/html": [
       "<button onClick=\"this.nextSibling.style.display='block';this.style.display='none';\">Display W&B run</button><iframe src=\"https://wandb.ai/android100/slu_webapp_model/runs/1w2sm2n8?jupyter=true\" style=\"border:none;width:100%;height:420px;display:none;\"></iframe>"
      ],
      "text/plain": [
       "<wandb.sdk.wandb_run.Run at 0x7fd7551d5520>"
      ]
     },
     "execution_count": 322,
     "metadata": {},
     "output_type": "execute_result"
    }
   ],
   "source": [
    "wandb.init(project=\"slu_webapp_model\", entity=\"android100\")"
   ]
  },
  {
   "cell_type": "code",
   "execution_count": 323,
   "id": "6fa68a6a-da0e-486e-8919-87115560ea79",
   "metadata": {},
   "outputs": [],
   "source": [
    "model = Model()\n",
    "loss_func = nn.CrossEntropyLoss()\n",
    "opt = optim.SGD(model.parameters(), lr=0.01)"
   ]
  },
  {
   "cell_type": "code",
   "execution_count": 324,
   "id": "b423e7ba-1d87-44c8-ae5a-2793ad3e451f",
   "metadata": {},
   "outputs": [],
   "source": [
    "EPOCH_COUNT = 20"
   ]
  },
  {
   "cell_type": "code",
   "execution_count": 325,
   "id": "c718755d-0963-4652-b4cc-5c1691bc453f",
   "metadata": {},
   "outputs": [
    {
     "name": "stdout",
     "output_type": "stream",
     "text": [
      " 19 4477/4478 635/44782 118/44781899/4478 222/447813 1867/44783948/447817 4181/447819 2137/4478"
     ]
    }
   ],
   "source": [
    "for train_epoch in range(EPOCH_COUNT):\n",
    "    for i in range(len(train_intent_tensors)):\n",
    "        model.zero_grad()\n",
    "        print(\"\\r\", train_epoch, f\"{i}/{len(train_intent_tensors)}\", end=\"\")\n",
    "        x = train_token_tensors[i]\n",
    "        # y_slot = train_slot_tensors[i]\n",
    "        y_intent = train_intent_tensors[i].view(-1)\n",
    "\n",
    "        pred = model(x)\n",
    "        loss = loss_func(pred, y_intent)\n",
    "        loss.backward()\n",
    "        opt.step()\n",
    "    \n",
    "\n",
    "        wandb.log({\"loss\": loss.detach().numpy()})"
   ]
  },
  {
   "cell_type": "code",
   "execution_count": 264,
   "id": "675bfb8f-4a35-4449-bd99-b1c76a17c404",
   "metadata": {},
   "outputs": [
    {
     "data": {
      "text/plain": [
       "[<matplotlib.lines.Line2D at 0x7fd7643f9400>]"
      ]
     },
     "execution_count": 264,
     "metadata": {},
     "output_type": "execute_result"
    },
    {
     "data": {
      "image/png": "[encoded data removed]",
      "text/plain": [
       "<Figure size 432x288 with 1 Axes>"
      ]
     },
     "metadata": {
      "needs_background": "light"
     },
     "output_type": "display_data"
    }
   ],
   "source": [
    "smoothed = []\n",
    "window_size = 300\n",
    "for i in range(window_size, len(train_losses)-window_size):\n",
    "    smoothed.append(sum(train_losses[i:i+window_size])/window_size)\n",
    "plt.plot(smoothed)"
   ]
  },
  {
   "cell_type": "code",
   "execution_count": 335,
   "id": "cb654d94-3033-4f7a-b2ea-4642043b0f49",
   "metadata": {},
   "outputs": [],
   "source": [
    "torch.save(model, \"saved_model.pkl\")"
   ]
  },
  {
   "cell_type": "code",
   "execution_count": 315,
   "id": "45953157-dba8-405b-9ac4-7565f5096c4b",
   "metadata": {},
   "outputs": [],
   "source": [
    "model_inference = torch.load(\"saved_model.pkl\")"
   ]
  },
  {
   "cell_type": "code",
   "execution_count": 301,
   "id": "de8c3b72-eb1e-417d-b36f-b6725adeae54",
   "metadata": {},
   "outputs": [],
   "source": [
    "# Add Model Testing"
   ]
  },
  {
   "cell_type": "code",
   "execution_count": 278,
   "id": "810eb96a-229f-4a1c-9487-66c964612bbf",
   "metadata": {},
   "outputs": [],
   "source": [
    "model_inference = model"
   ]
  },
  {
   "cell_type": "markdown",
   "id": "8ae3d842-bd08-45d6-b616-b385c2af8ed4",
   "metadata": {},
   "source": [
    "# Inference Test"
   ]
  },
  {
   "cell_type": "code",
   "execution_count": 321,
   "id": "dc46ec41-1410-49fc-a9ab-e4855f474f88",
   "metadata": {},
   "outputs": [
    {
     "data": {
      "text/plain": [
       "'atis_quantity'"
      ]
     },
     "execution_count": 321,
     "metadata": {},
     "output_type": "execute_result"
    }
   ],
   "source": [
    "# query = \"how much does it cost to fly to boston\"\n",
    "# query = \"what timezone is denver in\"\n",
    "# query = \"show me the flights from new york to boston\"\n",
    "query = \"how many flights are availble on tuesday\"\n",
    "\n",
    "query = query.lower().strip()\n",
    "query = query.split()\n",
    "query = map_token_sequence_to_ints(query)\n",
    "query = torch.tensor(query, dtype=torch.long)\n",
    "\n",
    "model_inference.eval()\n",
    "pred = model_inference(query)\n",
    "pred_class = pred.argmax(dim=-1).numpy()[0]\n",
    "\n",
    "intent2int[pred_class]"
   ]
  },
  {
   "cell_type": "markdown",
   "id": "d0bdde90-89f3-4fba-bcf9-1e385ff973b1",
   "metadata": {},
   "source": [
    "# Model Testing"
   ]
  },
  {
   "cell_type": "code",
   "execution_count": 326,
   "id": "9304dd2d-313c-4f2e-a8f8-1e81d42db777",
   "metadata": {},
   "outputs": [],
   "source": [
    "test_intents_ints = list(map(lambda x: intent2int.index(x), test_intent_labels))\n",
    "test_slots_ints   = list(map(map_label_sequence_to_ints, test_slot_labels))"
   ]
  },
  {
   "cell_type": "code",
   "execution_count": 327,
   "id": "ab003492-4a6c-45bd-a3eb-1bd41bdbab8c",
   "metadata": {},
   "outputs": [],
   "source": [
    "test_token_tensors = []\n",
    "test_slot_tensors = []\n",
    "test_intent_tensors = []\n",
    "\n",
    "for entry in test_data_ints:\n",
    "    test_token_tensors.append(torch.tensor(entry, dtype=torch.long))\n",
    "\n",
    "for entry in test_slots_ints:\n",
    "    test_slot_tensors.append(torch.tensor(entry, dtype=torch.long))\n",
    "\n",
    "for intent in test_intents_ints:\n",
    "    test_intent_tensors.append(torch.tensor(intent, dtype=torch.long))"
   ]
  },
  {
   "cell_type": "code",
   "execution_count": 328,
   "id": "fe80c57c-9d68-4dbb-b765-bc135f9dbb08",
   "metadata": {},
   "outputs": [
    {
     "data": {
      "text/plain": [
       "(tensor([ 46, 185, 194, 309,  58, 760,  95, 715, 518, 309, 788, 102, 171, 689,\n",
       "         760, 204, 665, 737,   5]),\n",
       " tensor([126, 126, 126, 126, 126, 126, 126, 126,  48, 126,  78, 123, 126, 126,\n",
       "         126, 126, 126,  71, 119]),\n",
       " tensor(10))"
      ]
     },
     "execution_count": 328,
     "metadata": {},
     "output_type": "execute_result"
    }
   ],
   "source": [
    "test_token_tensors[0], test_slot_tensors[0], test_intent_tensors[0]"
   ]
  },
  {
   "cell_type": "code",
   "execution_count": 334,
   "id": "c50cf0c1-a6bd-4808-9f39-ef99ca153400",
   "metadata": {},
   "outputs": [
    {
     "name": "stdout",
     "output_type": "stream",
     "text": [
      " 892/893\n",
      "0.9507278835386338\n"
     ]
    }
   ],
   "source": [
    "model.eval()\n",
    "intent_correct = 0\n",
    "for i in range(len(test_intent_tensors)):\n",
    "        model.zero_grad()\n",
    "        print(\"\\r\", f\"{i}/{len(test_intent_tensors)}\", end=\"\")\n",
    "        x = test_token_tensors[i]\n",
    "        # y_slot = train_slot_tensors[i]\n",
    "        y_intent = test_intent_tensors[i].item()\n",
    "\n",
    "        pred = model(x)\n",
    "        pred_class = pred.argmax(dim=-1).numpy()[0]\n",
    "\n",
    "        if pred_class == y_intent:\n",
    "            intent_correct += 1\n",
    "print()\n",
    "print(intent_correct / len(test_intent_tensors))"
   ]
  },
  {
   "cell_type": "code",
   "execution_count": null,
   "id": "4882a486-9cc1-490d-a62e-085718dfff2f",
   "metadata": {},
   "outputs": [],
   "source": []
  }
 ],
 "metadata": {
  "kernelspec": {
   "display_name": "Python 3 (ipykernel)",
   "language": "python",
   "name": "python3"
  },
  "language_info": {
   "codemirror_mode": {
    "name": "ipython",
    "version": 3
   },
   "file_extension": ".py",
   "mimetype": "text/x-python",
   "name": "python",
   "nbconvert_exporter": "python",
   "pygments_lexer": "ipython3",
   "version": "3.8.10"
  }
 },
 "nbformat": 4,
 "nbformat_minor": 5
}
